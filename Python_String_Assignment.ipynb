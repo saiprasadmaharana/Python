{
 "cells": [
  {
   "cell_type": "markdown",
   "id": "cbb5fb8a-cd5a-44e0-b58f-f5dc4bb546b7",
   "metadata": {},
   "source": [
    "Q1. How can we store a single quote (‘) as a str1ng 1n a var1able?"
   ]
  },
  {
   "cell_type": "code",
   "execution_count": 1,
   "id": "c851e9d4-024b-40eb-aaae-c6d6959ecbb4",
   "metadata": {},
   "outputs": [
    {
     "data": {
      "text/plain": [
       "'Saiprasad'"
      ]
     },
     "execution_count": 1,
     "metadata": {},
     "output_type": "execute_result"
    }
   ],
   "source": [
    "name = 'Saiprasad'\n",
    "name"
   ]
  },
  {
   "cell_type": "raw",
   "id": "268611d4-bac6-4e4e-90e4-df53b70cfedd",
   "metadata": {},
   "source": [
    "Q2. Refer the below variable:\n",
    "x = ‘a'\n",
    "Here, 1s x a character type or str1ng type var1able? Support your answer w1th an explanat1on."
   ]
  },
  {
   "cell_type": "code",
   "execution_count": 2,
   "id": "67f8d517-3c93-454f-8cc6-6b63f004cade",
   "metadata": {},
   "outputs": [
    {
     "data": {
      "text/plain": [
       "str"
      ]
     },
     "execution_count": 2,
     "metadata": {},
     "output_type": "execute_result"
    }
   ],
   "source": [
    "x = 'a'\n",
    "type(x)"
   ]
  },
  {
   "cell_type": "markdown",
   "id": "342b4d1e-31be-4eff-9a52-20e086c04531",
   "metadata": {},
   "source": [
    "Why x is string because its value is stored inside the quotation mark"
   ]
  },
  {
   "cell_type": "markdown",
   "id": "21e44839-ef0e-4ee4-afaf-df3cdbd713f6",
   "metadata": {},
   "source": [
    "Q3. Apply the follow1ng functions on th1s variable: ‘Welcome to Python Foundation course'"
   ]
  },
  {
   "cell_type": "code",
   "execution_count": 13,
   "id": "327b7f93-cb37-486b-a4cc-31cc32a4da8e",
   "metadata": {},
   "outputs": [
    {
     "data": {
      "text/plain": [
       "11"
      ]
     },
     "execution_count": 13,
     "metadata": {},
     "output_type": "execute_result"
    }
   ],
   "source": [
    "n = 'Welcome to Python Foundation course'\n",
    "n.find('P')"
   ]
  },
  {
   "cell_type": "code",
   "execution_count": 12,
   "id": "0741a07b-ea0b-4011-87cc-2170e653d4be",
   "metadata": {},
   "outputs": [
    {
     "data": {
      "text/plain": [
       "35"
      ]
     },
     "execution_count": 12,
     "metadata": {},
     "output_type": "execute_result"
    }
   ],
   "source": [
    "len(n)"
   ]
  },
  {
   "cell_type": "code",
   "execution_count": 11,
   "id": "56a48af9-d459-4b29-abff-a1a238fac83d",
   "metadata": {},
   "outputs": [
    {
     "data": {
      "text/plain": [
       "1"
      ]
     },
     "execution_count": 11,
     "metadata": {},
     "output_type": "execute_result"
    }
   ],
   "source": [
    "n.count('to')"
   ]
  },
  {
   "cell_type": "code",
   "execution_count": 14,
   "id": "eca1b0e0-c9a3-4cb9-9241-021d247f3126",
   "metadata": {},
   "outputs": [
    {
     "name": "stdout",
     "output_type": "stream",
     "text": [
      "Python is awesome\n"
     ]
    }
   ],
   "source": [
    "x = \"Python is \"\n",
    "y = \"awesome\"\n",
    "z =  x + y\n",
    "print(z)"
   ]
  },
  {
   "cell_type": "markdown",
   "id": "bfbd4818-ded1-4d8b-b006-836577c1f9db",
   "metadata": {},
   "source": [
    "Q4."
   ]
  },
  {
   "cell_type": "code",
   "execution_count": null,
   "id": "3ceb25c1-639f-4017-bf5d-948fcddd2b10",
   "metadata": {},
   "outputs": [],
   "source": []
  },
  {
   "cell_type": "markdown",
   "id": "af1e4abb-bbdb-431f-aa49-5c426d834fa9",
   "metadata": {},
   "source": [
    "Q5."
   ]
  },
  {
   "cell_type": "code",
   "execution_count": 20,
   "id": "62a3a16d-9f1b-4063-a391-0066c4cac8b6",
   "metadata": {},
   "outputs": [
    {
     "data": {
      "text/plain": [
       "int"
      ]
     },
     "execution_count": 20,
     "metadata": {},
     "output_type": "execute_result"
    }
   ],
   "source": [
    "num = 891\n",
    "type(num)"
   ]
  },
  {
   "cell_type": "code",
   "execution_count": 21,
   "id": "a85112e1-41fd-40bc-88d0-d462b4eb3610",
   "metadata": {},
   "outputs": [],
   "source": [
    "y = str(num)"
   ]
  },
  {
   "cell_type": "code",
   "execution_count": 22,
   "id": "4439c9c2-3ed1-42c1-8d70-935723083b5e",
   "metadata": {},
   "outputs": [
    {
     "data": {
      "text/plain": [
       "str"
      ]
     },
     "execution_count": 22,
     "metadata": {},
     "output_type": "execute_result"
    }
   ],
   "source": [
    "type(y)"
   ]
  }
 ],
 "metadata": {
  "kernelspec": {
   "display_name": "Python 3 (ipykernel)",
   "language": "python",
   "name": "python3"
  },
  "language_info": {
   "codemirror_mode": {
    "name": "ipython",
    "version": 3
   },
   "file_extension": ".py",
   "mimetype": "text/x-python",
   "name": "python",
   "nbconvert_exporter": "python",
   "pygments_lexer": "ipython3",
   "version": "3.10.8"
  }
 },
 "nbformat": 4,
 "nbformat_minor": 5
}
