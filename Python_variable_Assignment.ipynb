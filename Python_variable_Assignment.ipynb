{
 "cells": [
  {
   "cell_type": "markdown",
   "id": "e7edddf6-ef51-4359-87c3-9f8d1aed44c4",
   "metadata": {},
   "source": [
    "Q1. Write all the conventions being followed while declaring a variable."
   ]
  },
  {
   "cell_type": "code",
   "execution_count": 6,
   "id": "88e09396-e654-4dac-a4f2-9501317f4b30",
   "metadata": {},
   "outputs": [
    {
     "name": "stdout",
     "output_type": "stream",
     "text": [
      "100\n",
      "100\n",
      "Zara\n",
      "Nuha\n",
      "20\n",
      "100000\n"
     ]
    }
   ],
   "source": [
    "counter = 100\n",
    "_count  = 100\n",
    "name1 = \"Zara\"\n",
    "name2 = \"Nuha\"\n",
    "Age  = 20\n",
    "zara_salary = 100000\n",
    "\n",
    "print (counter)\n",
    "print (_count)\n",
    "print (name1)\n",
    "print (name2)\n",
    "print (Age)\n",
    "print (zara_salary)"
   ]
  },
  {
   "cell_type": "markdown",
   "id": "599fddfc-67a9-408a-9075-5fe7b4073a3a",
   "metadata": {},
   "source": [
    "Q2. What will happen if we declare a restricted keyword as a variable?"
   ]
  },
  {
   "cell_type": "raw",
   "id": "629fb717-98e9-4dc1-b8ab-edd71954e07c",
   "metadata": {},
   "source": [
    "Python will raise an error if you try to assign a value to any of these keywords and so you must avoid these as variable names"
   ]
  },
  {
   "cell_type": "code",
   "execution_count": 1,
   "id": "cd49d5c9-8137-46cc-b795-b23d7a57fe1c",
   "metadata": {},
   "outputs": [
    {
     "ename": "SyntaxError",
     "evalue": "invalid syntax (510799395.py, line 2)",
     "output_type": "error",
     "traceback": [
      "\u001b[0;36m  Cell \u001b[0;32mIn[1], line 2\u001b[0;36m\u001b[0m\n\u001b[0;31m    and = 10\u001b[0m\n\u001b[0m    ^\u001b[0m\n\u001b[0;31mSyntaxError\u001b[0m\u001b[0;31m:\u001b[0m invalid syntax\n"
     ]
    }
   ],
   "source": [
    "#Example\n",
    "and = 10\n",
    "and"
   ]
  },
  {
   "cell_type": "markdown",
   "id": "0aa6720c-fa30-4b16-84c6-1548c8b40d4d",
   "metadata": {},
   "source": [
    "Q3. Can we actually declare a string as a variable name?"
   ]
  },
  {
   "cell_type": "raw",
   "id": "93f42ee1-a4c1-4b24-b8d0-f5c038e5e8ee",
   "metadata": {},
   "source": [
    "Ans - Yes, We can declare a string as a variable name"
   ]
  },
  {
   "cell_type": "code",
   "execution_count": 3,
   "id": "d5908019-84a7-416e-b38d-bbdaf584300b",
   "metadata": {},
   "outputs": [
    {
     "data": {
      "text/plain": [
       "10"
      ]
     },
     "execution_count": 3,
     "metadata": {},
     "output_type": "execute_result"
    }
   ],
   "source": [
    "string=10\n",
    "string"
   ]
  },
  {
   "cell_type": "markdown",
   "id": "fbbdabf1-4be6-43df-8a87-eda64bd2f0e6",
   "metadata": {},
   "source": [
    "Q4. Is it possible for us to declare “_” as a variable? If so, then write an example of it."
   ]
  },
  {
   "cell_type": "raw",
   "id": "ccbbd5f9-5f80-4911-83c7-b1b58e881d55",
   "metadata": {},
   "source": [
    "Yes, it is possible"
   ]
  },
  {
   "cell_type": "code",
   "execution_count": 4,
   "id": "3687fbfd-f5d1-4585-b72c-ccdecd67a5e7",
   "metadata": {},
   "outputs": [
    {
     "data": {
      "text/plain": [
       "'Python'"
      ]
     },
     "execution_count": 4,
     "metadata": {},
     "output_type": "execute_result"
    }
   ],
   "source": [
    "#example\n",
    "_='Python'\n",
    "_"
   ]
  },
  {
   "cell_type": "markdown",
   "id": "f949ec36-a74b-4656-84aa-fcee7b4a74fd",
   "metadata": {},
   "source": [
    "Q5. Using an example, explain how the variables in python are dynamic in nature."
   ]
  },
  {
   "cell_type": "code",
   "execution_count": 5,
   "id": "f01cbecf-502d-4f0b-acea-c75246e4f211",
   "metadata": {},
   "outputs": [
    {
     "name": "stdout",
     "output_type": "stream",
     "text": [
      "<class 'int'>\n",
      "<class 'bool'>\n"
     ]
    }
   ],
   "source": [
    "x = 1\n",
    "\n",
    "x,y=1,10\n",
    "\n",
    "print(type(x))\n",
    "\n",
    "x = True\n",
    "\n",
    "## x is a bool here\n",
    "print(type(x))"
   ]
  },
  {
   "cell_type": "markdown",
   "id": "d49d586e-b12e-409f-8045-16d1dae800dd",
   "metadata": {},
   "source": [
    "As you see, we didn't declare the type of variable in the program. Python will automatically recognize the type of variable with the help of the value in the runtime."
   ]
  }
 ],
 "metadata": {
  "kernelspec": {
   "display_name": "Python 3 (ipykernel)",
   "language": "python",
   "name": "python3"
  },
  "language_info": {
   "codemirror_mode": {
    "name": "ipython",
    "version": 3
   },
   "file_extension": ".py",
   "mimetype": "text/x-python",
   "name": "python",
   "nbconvert_exporter": "python",
   "pygments_lexer": "ipython3",
   "version": "3.10.8"
  }
 },
 "nbformat": 4,
 "nbformat_minor": 5
}
